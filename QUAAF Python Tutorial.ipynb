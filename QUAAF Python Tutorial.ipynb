{
 "cells": [
  {
   "cell_type": "markdown",
   "metadata": {},
   "source": [
    "## QUAAF Python Crash Course\n",
    "### Part 1 Data Types & Structures"
   ]
  },
  {
   "cell_type": "markdown",
   "metadata": {},
   "source": [
    "#### Numerics"
   ]
  },
  {
   "cell_type": "code",
   "execution_count": 19,
   "metadata": {},
   "outputs": [
    {
     "name": "stdout",
     "output_type": "stream",
     "text": [
      "<class 'int'>\n",
      "<class 'float'>\n"
     ]
    }
   ],
   "source": [
    "#integers (whole #'s only)\n",
    "x = 7\n",
    "print(type(7))\n",
    "\n",
    "#floats (any # with a decimal)\n",
    "y = 7.0\n",
    "print(type(y))"
   ]
  },
  {
   "cell_type": "markdown",
   "metadata": {},
   "source": [
    "#### Basic Math"
   ]
  },
  {
   "cell_type": "code",
   "execution_count": 93,
   "metadata": {},
   "outputs": [
    {
     "name": "stdout",
     "output_type": "stream",
     "text": [
      "14 0\n",
      "49 1.0\n",
      "49 343\n"
     ]
    }
   ],
   "source": [
    "#addition/subtraction\n",
    "x = 7\n",
    "y = 7\n",
    "w = x+y\n",
    "z = x-y\n",
    "print(w,z)\n",
    "\n",
    "#multiplication/division (note that dividing an int/int will give you a float)\n",
    "a = x*y\n",
    "b = x/y\n",
    "print(a,b)\n",
    "\n",
    "#exponents\n",
    "c = x**2\n",
    "d = x**3\n",
    "print(c,d)"
   ]
  },
  {
   "cell_type": "markdown",
   "metadata": {},
   "source": [
    "#### Strings\n",
    "\n",
    "Strings are objects that can contain any text and/or numerics. They are also **immutable** ie. once a string is created it cannot be changed without creating a new string. Strings are largely used for labelling variables, printing out text, labelling plots, etc. **Any numbers contained in strings have to be extracted and converted into ints or floats in order to be used for just about anything other than being printed as text.**"
   ]
  },
  {
   "cell_type": "code",
   "execution_count": 94,
   "metadata": {},
   "outputs": [
    {
     "name": "stdout",
     "output_type": "stream",
     "text": [
      "this is a string object\n",
      "<class 'str'> <class 'str'>\n"
     ]
    }
   ],
   "source": [
    "#strings (can contain any text/numerics enclosed with \"\" or '')\n",
    "s = \"this is a string object\"\n",
    "s_1 = \"65648\" \n",
    "print(s)\n",
    "print(type(s),type(s_1))"
   ]
  },
  {
   "cell_type": "code",
   "execution_count": 47,
   "metadata": {},
   "outputs": [
    {
     "name": "stdout",
     "output_type": "stream",
     "text": [
      "This is a string object\n",
      "['this', 'is', 'a', 'string', 'object']\n",
      "10\n",
      "...stonks only go up... is a string object\n"
     ]
    }
   ],
   "source": [
    "#basic string operations\n",
    "print(s.capitalize()) #capitalize the 1st character of a string\n",
    "print(s.split()) #split the string into its components\n",
    "print(s.find('string')) #locate the position of certain element in a string\n",
    "print(s.replace('this','...stonks only go up...')) #replace string elements with new elements"
   ]
  },
  {
   "cell_type": "markdown",
   "metadata": {},
   "source": [
    "### Basic Data Structures"
   ]
  },
  {
   "cell_type": "markdown",
   "metadata": {},
   "source": [
    "#### Lists \n",
    "\n",
    "A list is a collection of **objects that is ordered and changeable**. Lists can contain numerics, strings, other lists, etc. Each object in a list has its position in the list represented by an index value. In python these indices are arranged as follows: [0,1,2,3,...-1]. Lists are also **mutable giving you the ability to be change, delete and add elements to an existing list without having to make new one**. For most things you'll be doing with python for finance you'll want to store your data in lists rather than tuples (see below) unless you have good reason."
   ]
  },
  {
   "cell_type": "code",
   "execution_count": 102,
   "metadata": {},
   "outputs": [
    {
     "name": "stdout",
     "output_type": "stream",
     "text": [
      "['Titantic', 1997, 'Leo', 'DiCaprio', 'Leo']\n",
      "<class 'list'>\n",
      "Titantic\n",
      "Leo\n",
      "2\n",
      "1\n"
     ]
    }
   ],
   "source": [
    "#lists can created with []\n",
    "l = [\"Titantic\",1997,\"Leo\",\"DiCaprio\",\"Leo\"]\n",
    "print(l)\n",
    "\n",
    "#other data structures (like tuples) can also be converted into lists using list()\n",
    "l = list(t)\n",
    "print(type(l))\n",
    "\n",
    "#working with lists is just like working with tuples\n",
    "print(l[0]) #selecting the 1st item\n",
    "print(l[-1]) #selecting the last item\n",
    "print(l.count('Leo')) #counting the # of Leo's in the list\n",
    "print(l.index(1997)) #finding the position of 1997 in the list"
   ]
  },
  {
   "cell_type": "markdown",
   "metadata": {},
   "source": [
    "#### Tuples\n",
    "\n",
    "Tuples are very similar to lists with the key difference being that they are **immutable ie once a tuple is created it cannot be changed without creating a new tuple**. Tuples are typically used for grouping together related info and are used in lieu of lists in certain situations in order to do things like optimize memory usage, etc. These are likely scenarios you won't need to worry much about. **In almost all cases you should be using a list not a tuple (unless you have a good reason otherwise).** Think of tuples as the Read-Only companion to lists."
   ]
  },
  {
   "cell_type": "code",
   "execution_count": 103,
   "metadata": {},
   "outputs": [
    {
     "name": "stdout",
     "output_type": "stream",
     "text": [
      "<class 'tuple'>\n",
      "Titantic\n",
      "Leo\n",
      "2\n",
      "1\n"
     ]
    }
   ],
   "source": [
    "#tuples can be created with () \n",
    "t = (\"Titantic\",1997,\"Leo\",\"DiCaprio\",\"Leo\") \n",
    "print(type(t))\n",
    "\n",
    "#elements within tuples & lists are selected by their positions\n",
    "#python list/tuple indices go: [0,1,2,..,-1]\n",
    "\n",
    "#working with tuples\n",
    "print(t[0]) #selecting the 1st item\n",
    "print(t[-1]) #selecting the last item\n",
    "print(t.count('Leo')) #counting the # of Leo's in the tuple\n",
    "print(t.index(1997)) #finding the position of 1997 in the tuple"
   ]
  },
  {
   "cell_type": "markdown",
   "metadata": {},
   "source": [
    "#### Dictionaries\n",
    "\n",
    "Dictionaries are mutable collections of **unordered, changeable and indexed objects**. They are made with a key/value structure where each key has a corresponding value. They are extremely memory efficient, can be rapidly expanded and very useful for large amounts of paired data like employee ID #s & names, positions & salaries, employees & supervisors, etc."
   ]
  },
  {
   "cell_type": "code",
   "execution_count": 110,
   "metadata": {},
   "outputs": [
    {
     "name": "stdout",
     "output_type": "stream",
     "text": [
      "<class 'dict'>\n",
      "EmployeeID #69 67900\n",
      "dict_keys(['Jim', 'Salary', 'Supervisor'])\n",
      "dict_values(['EmployeeID #69', 67900, 'Bob'])\n",
      "dict_items([('Jim', 'EmployeeID #69'), ('Salary', 67900), ('Supervisor', 'Bob')])\n"
     ]
    }
   ],
   "source": [
    "#dictionaries can be created with {}\n",
    "d = {\n",
    "     'Jim' : 'EmployeeID #69',\n",
    "     'Salary' : 67900,\n",
    "     'Supervisor' : 'Bob'\n",
    "     }\n",
    "print(type(d))\n",
    "\n",
    "#working with dictionaries\n",
    "print(d[\"Jim\"],d[\"Salary\"]) #using name & salary keys to obtain ID # and salary values\n",
    "print(d.keys()) #obtain a list of all keys in the dictionary\n",
    "print(d.values()) #obtain a list of all values in the dictionary\n",
    "print(d.items()) #obtain a list of all the key,value pairs in the dictionary"
   ]
  },
  {
   "cell_type": "markdown",
   "metadata": {},
   "source": [
    "### Numpy Data Structures"
   ]
  },
  {
   "cell_type": "markdown",
   "metadata": {},
   "source": [
    "#### Creating NumPy Arrays\n",
    "\n",
    "NumPy arrays are very similar to lists in terms of the types of data they can store, how they are indexed and how they are iterated through. The key difference being the types of functions you can perform on them. **You can perform just about anything you would want to on a NumPy array to transform into what you need it to be**. For this reason NumPy arrays are probably **the most important data structure to familiarize yourself with** as they are likely the data structure that you will find yourself working with most often."
   ]
  },
  {
   "cell_type": "code",
   "execution_count": 125,
   "metadata": {},
   "outputs": [
    {
     "name": "stdout",
     "output_type": "stream",
     "text": [
      "<class 'numpy.ndarray'>\n",
      "5.0\n",
      "0.7071067811865476\n",
      "[0. 1. 2. 3. 4.]\n",
      "[0.   0.25 1.   2.25 4.  ]\n",
      "[0.         0.70710678 1.         1.22474487 1.41421356]\n"
     ]
    }
   ],
   "source": [
    "#numpy arrays can be created with np.array([])\n",
    "import numpy as np\n",
    "a = np.array([0,0.5,1.0,1.5,2.0])\n",
    "print(type(a))\n",
    "\n",
    "#working with arrays\n",
    "a[:2] #indexing just like with lists\n",
    "print(a.sum()) #sum of all elements\n",
    "print(a.std()) #std of array\n",
    "\n",
    "#manipulating arrays (the kinds of things you cant do with lists)\n",
    "print(a*2) #multiplying every element in array by 2\n",
    "print(a**2) #squaring every element in array\n",
    "print(np.sqrt(a)) #sqrting every element in array"
   ]
  },
  {
   "cell_type": "code",
   "execution_count": 132,
   "metadata": {},
   "outputs": [
    {
     "name": "stdout",
     "output_type": "stream",
     "text": [
      "[[0.    0.5   1.    1.5   2.   ]\n",
      " [0.    1.    2.    3.    4.   ]\n",
      " [0.    0.125 1.    3.375 8.   ]]\n",
      "[0.  0.5 1.  1.5 2. ]\n",
      "1.5\n",
      "27.5\n",
      "[ 0.     1.625  4.     7.875 14.   ]\n",
      "[ 5.  10.  12.5]\n"
     ]
    }
   ],
   "source": [
    "#creating array of arrays\n",
    "b = np.array([a,a*2,a**3])\n",
    "print(b)\n",
    "\n",
    "#working with array of arrays\n",
    "print(b[0]) #selecting first row\n",
    "print(b[0,3]) #selecting 4th element of first row\n",
    "\n",
    "#array operations\n",
    "print(b.sum()) #sum of all elements\n",
    "print(b.sum(axis=0)) #sum along 0-axis (column-wise sum)\n",
    "print(b.sum(axis=1)) #sum along 1-axis (row-wise sum)"
   ]
  },
  {
   "cell_type": "markdown",
   "metadata": {},
   "source": [
    "### Pandas DataFrames"
   ]
  },
  {
   "cell_type": "markdown",
   "metadata": {},
   "source": [
    "#### The DataFrame\n",
    "\n",
    "Probably the most useful structure of them all a Pandas DataFrame is a 2-d, mutable, tabular data structure. In other words, its **basically a spreadsheet**. Columns, rows, data. Simple enough. DataFrames are more or less made up of NumPy arrays and behave in the same way (they can be operated on more or less however you'd like)\n",
    "\n",
    "#### Creating a DataFrame"
   ]
  },
  {
   "cell_type": "code",
   "execution_count": 164,
   "metadata": {},
   "outputs": [
    {
     "data": {
      "text/html": [
       "<div>\n",
       "<style scoped>\n",
       "    .dataframe tbody tr th:only-of-type {\n",
       "        vertical-align: middle;\n",
       "    }\n",
       "\n",
       "    .dataframe tbody tr th {\n",
       "        vertical-align: top;\n",
       "    }\n",
       "\n",
       "    .dataframe thead th {\n",
       "        text-align: right;\n",
       "    }\n",
       "</style>\n",
       "<table border=\"1\" class=\"dataframe\">\n",
       "  <thead>\n",
       "    <tr style=\"text-align: right;\">\n",
       "      <th></th>\n",
       "      <th>numbers</th>\n",
       "    </tr>\n",
       "  </thead>\n",
       "  <tbody>\n",
       "    <tr>\n",
       "      <th>a</th>\n",
       "      <td>1</td>\n",
       "    </tr>\n",
       "    <tr>\n",
       "      <th>b</th>\n",
       "      <td>2</td>\n",
       "    </tr>\n",
       "    <tr>\n",
       "      <th>c</th>\n",
       "      <td>3</td>\n",
       "    </tr>\n",
       "    <tr>\n",
       "      <th>d</th>\n",
       "      <td>4</td>\n",
       "    </tr>\n",
       "  </tbody>\n",
       "</table>\n",
       "</div>"
      ],
      "text/plain": [
       "   numbers\n",
       "a        1\n",
       "b        2\n",
       "c        3\n",
       "d        4"
      ]
     },
     "execution_count": 164,
     "metadata": {},
     "output_type": "execute_result"
    }
   ],
   "source": [
    "#creating a dataframe\n",
    "import pandas as pd\n",
    "\n",
    "df = pd.DataFrame([1,2,3,4],columns = ['numbers'],\n",
    "                 index = ['a','b','c','d'])\n",
    "df"
   ]
  },
  {
   "cell_type": "code",
   "execution_count": 165,
   "metadata": {},
   "outputs": [
    {
     "name": "stdout",
     "output_type": "stream",
     "text": [
      "Index(['a', 'b', 'c', 'd'], dtype='object')\n",
      "Index(['numbers'], dtype='object')\n",
      "numbers    3\n",
      "Name: c, dtype: int64\n"
     ]
    },
    {
     "data": {
      "text/html": [
       "<div>\n",
       "<style scoped>\n",
       "    .dataframe tbody tr th:only-of-type {\n",
       "        vertical-align: middle;\n",
       "    }\n",
       "\n",
       "    .dataframe tbody tr th {\n",
       "        vertical-align: top;\n",
       "    }\n",
       "\n",
       "    .dataframe thead th {\n",
       "        text-align: right;\n",
       "    }\n",
       "</style>\n",
       "<table border=\"1\" class=\"dataframe\">\n",
       "  <thead>\n",
       "    <tr style=\"text-align: right;\">\n",
       "      <th></th>\n",
       "      <th>numbers</th>\n",
       "    </tr>\n",
       "  </thead>\n",
       "  <tbody>\n",
       "    <tr>\n",
       "      <th>a</th>\n",
       "      <td>1</td>\n",
       "    </tr>\n",
       "    <tr>\n",
       "      <th>b</th>\n",
       "      <td>4</td>\n",
       "    </tr>\n",
       "    <tr>\n",
       "      <th>c</th>\n",
       "      <td>9</td>\n",
       "    </tr>\n",
       "    <tr>\n",
       "      <th>d</th>\n",
       "      <td>16</td>\n",
       "    </tr>\n",
       "  </tbody>\n",
       "</table>\n",
       "</div>"
      ],
      "text/plain": [
       "   numbers\n",
       "a        1\n",
       "b        4\n",
       "c        9\n",
       "d       16"
      ]
     },
     "execution_count": 165,
     "metadata": {},
     "output_type": "execute_result"
    }
   ],
   "source": [
    "#working with the dataframe\n",
    "print(df.index) #index values\n",
    "print(df.columns) #column names\n",
    "print(df.loc['c']) #selection via index\n",
    "df **2 #squaring the df (just like with np arrays)"
   ]
  },
  {
   "cell_type": "code",
   "execution_count": 166,
   "metadata": {},
   "outputs": [
    {
     "data": {
      "text/html": [
       "<div>\n",
       "<style scoped>\n",
       "    .dataframe tbody tr th:only-of-type {\n",
       "        vertical-align: middle;\n",
       "    }\n",
       "\n",
       "    .dataframe tbody tr th {\n",
       "        vertical-align: top;\n",
       "    }\n",
       "\n",
       "    .dataframe thead th {\n",
       "        text-align: right;\n",
       "    }\n",
       "</style>\n",
       "<table border=\"1\" class=\"dataframe\">\n",
       "  <thead>\n",
       "    <tr style=\"text-align: right;\">\n",
       "      <th></th>\n",
       "      <th>numbers</th>\n",
       "      <th>floats</th>\n",
       "      <th>names</th>\n",
       "    </tr>\n",
       "  </thead>\n",
       "  <tbody>\n",
       "    <tr>\n",
       "      <th>a</th>\n",
       "      <td>1</td>\n",
       "      <td>1.00</td>\n",
       "      <td>Jim</td>\n",
       "    </tr>\n",
       "    <tr>\n",
       "      <th>b</th>\n",
       "      <td>2</td>\n",
       "      <td>2.00</td>\n",
       "      <td>Mark</td>\n",
       "    </tr>\n",
       "    <tr>\n",
       "      <th>c</th>\n",
       "      <td>3</td>\n",
       "      <td>3.00</td>\n",
       "      <td>Mike</td>\n",
       "    </tr>\n",
       "    <tr>\n",
       "      <th>d</th>\n",
       "      <td>4</td>\n",
       "      <td>4.00</td>\n",
       "      <td>John</td>\n",
       "    </tr>\n",
       "    <tr>\n",
       "      <th>z</th>\n",
       "      <td>100</td>\n",
       "      <td>5.75</td>\n",
       "      <td>Henry</td>\n",
       "    </tr>\n",
       "  </tbody>\n",
       "</table>\n",
       "</div>"
      ],
      "text/plain": [
       "   numbers  floats  names\n",
       "a        1    1.00    Jim\n",
       "b        2    2.00   Mark\n",
       "c        3    3.00   Mike\n",
       "d        4    4.00   John\n",
       "z      100    5.75  Henry"
      ]
     },
     "execution_count": 166,
     "metadata": {},
     "output_type": "execute_result"
    }
   ],
   "source": [
    "#manipulating dataframe\n",
    "\n",
    "df['floats'] = (1.0,2.0,3.0,4.0) #adding additonal col\n",
    "\n",
    "df['names'] = pd.DataFrame(['John','Jim','Mark','Mike'],\n",
    "index = ['d','a','b','c']) #adding aditional col (indexed)\n",
    "\n",
    "df = df.append(pd.DataFrame({'numbers': 100, 'floats': 5.75,\n",
    "                             'names': 'Henry'}, index=['z',]))\n",
    "df"
   ]
  },
  {
   "cell_type": "code",
   "execution_count": 169,
   "metadata": {},
   "outputs": [
    {
     "name": "stdout",
     "output_type": "stream",
     "text": [
      "numbers                     110\n",
      "floats                    15.75\n",
      "names      JimMarkMikeJohnHenry\n",
      "dtype: object\n",
      "numbers    22.00\n",
      "floats      3.15\n",
      "dtype: float64\n"
     ]
    }
   ],
   "source": [
    "#df basic analytics\n",
    "print(df.sum()) #calculates the sum of each col\n",
    "print(df.mean()) #calculated the mean of each col"
   ]
  }
 ],
 "metadata": {
  "kernelspec": {
   "display_name": "Python 3",
   "language": "python",
   "name": "python3"
  },
  "language_info": {
   "codemirror_mode": {
    "name": "ipython",
    "version": 3
   },
   "file_extension": ".py",
   "mimetype": "text/x-python",
   "name": "python",
   "nbconvert_exporter": "python",
   "pygments_lexer": "ipython3",
   "version": "3.6.10"
  }
 },
 "nbformat": 4,
 "nbformat_minor": 4
}
